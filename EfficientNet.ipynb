{
  "nbformat": 4,
  "nbformat_minor": 0,
  "metadata": {
    "colab": {
      "name": "EfficientNet.ipynb",
      "provenance": [],
      "authorship_tag": "ABX9TyP6gFYBB2BzD9RUpWLQaw2s",
      "include_colab_link": true
    },
    "kernelspec": {
      "name": "python3",
      "display_name": "Python 3"
    },
    "language_info": {
      "name": "python"
    }
  },
  "cells": [
    {
      "cell_type": "markdown",
      "metadata": {
        "id": "view-in-github",
        "colab_type": "text"
      },
      "source": [
        "<a href=\"https://colab.research.google.com/github/Akk216/GeNWrK/blob/main/EfficientNet.ipynb\" target=\"_parent\"><img src=\"https://colab.research.google.com/assets/colab-badge.svg\" alt=\"Open In Colab\"/></a>"
      ]
    },
    {
      "cell_type": "code",
      "source": [
        "import torch\n",
        "import torch.nn as nn\n",
        "from math import ceil\n",
        "\n",
        "base_model = [\n",
        "    # expand_ratio, channels, repeats, stride, kernel_size\n",
        "    [1, 16, 1, 1, 3],\n",
        "    [6, 24, 2, 2, 3],\n",
        "    [6, 40, 2, 2, 5],\n",
        "    [6, 80, 3, 2, 3],\n",
        "    [6, 112, 3, 1, 5],\n",
        "    [6, 192, 4, 2, 5],\n",
        "    [6, 320, 1, 1, 3],\n",
        "]\n",
        "\n",
        "phi_values = {\n",
        "    # tuple of: (phi_value, resolution, drop_rate)\n",
        "    \"b0\": (0, 224, 0.2),  # alpha, beta, gamma, depth = alpha ** phi\n",
        "    \"b1\": (0.5, 240, 0.2),\n",
        "    \"b2\": (1, 260, 0.3),\n",
        "    \"b3\": (2, 300, 0.3),\n",
        "    \"b4\": (3, 380, 0.4),\n",
        "    \"b5\": (4, 456, 0.4),\n",
        "    \"b6\": (5, 528, 0.5),\n",
        "    \"b7\": (6, 600, 0.5),\n",
        "}\n",
        "\n",
        "class CNNBlock(nn.Module):\n",
        "  def __init__(self, in_channels, out_channels, kernelsize, stride, padding, groups=1):\n",
        "    super(CNNBlock, self).__init__()\n",
        "    self.cnn = nn.Conv2d(in_channels, out_channels, kernelsize, stride, padding, groups=groups, bias=False,)\n",
        "    self.bn = nn.BatchNorm2d(out_channels)\n",
        "    self.silu = nn.SiLU() # SiLU <-> Swish\n",
        "\n",
        "  def forward(self, x):\n",
        "      return self.silu(self.bn(self.cnn(x)))\n",
        "\n",
        "\n",
        "\n",
        "\n",
        "class SqExc(nn.Module):\n",
        "  def __init__(self, in_channels, reduced_dim):\n",
        "    super(SqExc, self).__init__()\n",
        "    self.se=nn.Sequential(\n",
        "        nn.AdaptiveAvgPool2d(1),\n",
        "        nn.Conv2d(in_channels, reduced_dim, 1),\n",
        "        nn.SiLU(),\n",
        "        nn.Conv2d(reduced_dim, in_channels, 1),\n",
        "        nn.Sigmoid()     \n",
        "    )\n",
        "  def forward(self, x):\n",
        "    return x*self.se(x)\n",
        "\n",
        "class InvResBlock(nn.Module):\n",
        "  def __init__(self, in_channels, out_channels, kernelsize, stride,  padding, ex_ratio, reduction=4, surv_prob=0.8):\n",
        "    super(InvResBlock, self).__init__()\n",
        "    self.surv_prob= surv_prob\n",
        "    self.use_residual= in_channels == out_channels and stride == 1\n",
        "    hdim=in_channels*ex_ratio\n",
        "    self.expand = in_channels != hdim\n",
        "    reddim=int(in_channels / reduction)\n",
        "\n",
        "    if self.expand:\n",
        "      self.expand_conv = CNNBlock( in_channels, hdim, kernelsize=3, stride= 1, padding=1)\n",
        "    \n",
        "    self.conv= nn.Sequential(\n",
        "        CNNBlock(hdim, hdim, kernelsize, stride, padding, groups= hdim),\n",
        "        SqExc(hdim, reddim),\n",
        "        nn.Conv2d(hdim, out_channels, 1, bias=False),\n",
        "        nn.BatchNorm2d(out_channels),\n",
        "    )\n",
        "\n",
        "  def stochastic_depth(self, x):\n",
        "    if not self.training:\n",
        "      return x\n",
        "\n",
        "    binary_tensor = torch.rand(x.shape[0],1,1,1,device=x.device) < self.surv_prob \n",
        "    return torch.div(x, self.surv_prob)* binary_tensor\n",
        "\n",
        "  def forward(self, inputs):\n",
        "    x=self.expand_conv(inputs) if self.expand else inputs\n",
        "\n",
        "    if self.use_residual:\n",
        "      return self.stochastic_depth(self.conv(x)) + inputs\n",
        "    else:\n",
        "      return self.conv(x)  \n",
        "         \n",
        "class EfficientNet(nn.Module):\n",
        "  def __init__(self, version, num_classes):\n",
        "    super(EfficientNet, self).__init__()\n",
        "    wf,df,dropout_rate=self.cal(version)\n",
        "    last_channel= ceil(1280 * wf)\n",
        "    self.pool = nn.AdaptiveAvgPool2d(1)\n",
        "    self.features=self.create_features(wf, df, last_channel)\n",
        "    self.classifier=nn.Sequential(\n",
        "        nn.Dropout(dropout_rate),\n",
        "        nn.Linear(last_channel, num_classes),\n",
        "    )\n",
        "  \n",
        "  def cal(self, version, alpha=1.2, beta=1.1):\n",
        "    phi, res, droprate= phi_values[version]\n",
        "    df= alpha ** phi\n",
        "    wf = beta ** phi\n",
        "    return wf,df,droprate\n",
        "  \n",
        "  def create_features(self, wf, df, last_channel):\n",
        "    channels=int(32*wf)\n",
        "    features = [CNNBlock(3, channels, 3, stride =2, padding= 1)]\n",
        "    in_channels = channels\n",
        "\n",
        "    for expand_ratio, channels, repeats, stride, kernelsize in base_model:\n",
        "      out_channels = 4*ceil(int(channels*wf)/4)\n",
        "      layer_repeats = ceil(repeats * df)\n",
        "\n",
        "      for layer in range(layer_repeats):\n",
        "        features.append(InvResBlock(in_channels, out_channels, ex_ratio= expand_ratio, stride= stride if layer ==0 else 1, kernelsize=kernelsize, padding = kernelsize//2,))\n",
        "        in_channels=out_channels\n",
        "    features.append(\n",
        "        CNNBlock(in_channels, last_channel, kernelsize=1, stride = 1, padding = 0)\n",
        "    )\n",
        "    return nn.Sequential(*features)\n",
        "  \n",
        "  def forward(self, x):\n",
        "    x = self.pool(self.features(x))\n",
        "    return self.classifier(x.view(x.shape[0],-1))\n",
        "\n"
      ],
      "metadata": {
        "id": "NOotnE9aamcg"
      },
      "execution_count": 20,
      "outputs": []
    },
    {
      "cell_type": "code",
      "source": [
        "def test():\n",
        "    device = \"cuda\" if torch.cuda.is_available() else \"cpu\"\n",
        "    version = \"b0\"\n",
        "    phi, res, drop_rate = phi_values[version]\n",
        "    num_examples, num_classes = 4, 10\n",
        "    x = torch.randn((num_examples, 3, res, res)).to(device)\n",
        "    model = EfficientNet(\n",
        "        version=version,\n",
        "        num_classes=num_classes,\n",
        "    ).to(device)\n",
        "\n",
        "    print(model(x).shape) \n",
        "\n"
      ],
      "metadata": {
        "id": "fr5Rsi_1CcfV"
      },
      "execution_count": 21,
      "outputs": []
    },
    {
      "cell_type": "code",
      "source": [
        "test()"
      ],
      "metadata": {
        "colab": {
          "base_uri": "https://localhost:8080/"
        },
        "id": "8dRMdvKyCtJz",
        "outputId": "19ba303a-6be9-4a93-8f8f-59dc50c8f775"
      },
      "execution_count": 22,
      "outputs": [
        {
          "output_type": "stream",
          "name": "stdout",
          "text": [
            "torch.Size([4, 10])\n"
          ]
        }
      ]
    },
    {
      "cell_type": "code",
      "source": [
        ""
      ],
      "metadata": {
        "id": "3PAZI4B6OyrV"
      },
      "execution_count": null,
      "outputs": []
    }
  ]
}