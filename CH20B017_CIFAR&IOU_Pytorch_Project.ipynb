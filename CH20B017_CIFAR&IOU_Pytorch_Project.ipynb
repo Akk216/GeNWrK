{
  "nbformat": 4,
  "nbformat_minor": 0,
  "metadata": {
    "colab": {
      "name": "Copy of Session-7_Assignment.ipynb",
      "provenance": [],
      "collapsed_sections": [],
      "include_colab_link": true
    },
    "kernelspec": {
      "name": "python3",
      "display_name": "Python 3"
    },
    "language_info": {
      "name": "python"
    },
    "accelerator": "GPU",
    "widgets": {
      "application/vnd.jupyter.widget-state+json": {
        "e5bdbfc9affe49c8823925cd6ceb7df8": {
          "model_module": "@jupyter-widgets/controls",
          "model_name": "HBoxModel",
          "state": {
            "_view_name": "HBoxView",
            "_dom_classes": [],
            "_model_name": "HBoxModel",
            "_view_module": "@jupyter-widgets/controls",
            "_model_module_version": "1.5.0",
            "_view_count": null,
            "_view_module_version": "1.5.0",
            "box_style": "",
            "layout": "IPY_MODEL_e81d0cc0e2d5412b80c6838f3ececec2",
            "_model_module": "@jupyter-widgets/controls",
            "children": [
              "IPY_MODEL_b968f830e48a4d35a019157cee7ec5ae",
              "IPY_MODEL_b5833697b03d403aa613114df797f94a"
            ]
          },
          "model_module_version": "1.5.0"
        },
        "e81d0cc0e2d5412b80c6838f3ececec2": {
          "model_module": "@jupyter-widgets/base",
          "model_name": "LayoutModel",
          "state": {
            "_view_name": "LayoutView",
            "grid_template_rows": null,
            "right": null,
            "justify_content": null,
            "_view_module": "@jupyter-widgets/base",
            "overflow": null,
            "_model_module_version": "1.2.0",
            "_view_count": null,
            "flex_flow": null,
            "width": null,
            "min_width": null,
            "border": null,
            "align_items": null,
            "bottom": null,
            "_model_module": "@jupyter-widgets/base",
            "top": null,
            "grid_column": null,
            "overflow_y": null,
            "overflow_x": null,
            "grid_auto_flow": null,
            "grid_area": null,
            "grid_template_columns": null,
            "flex": null,
            "_model_name": "LayoutModel",
            "justify_items": null,
            "grid_row": null,
            "max_height": null,
            "align_content": null,
            "visibility": null,
            "align_self": null,
            "height": null,
            "min_height": null,
            "padding": null,
            "grid_auto_rows": null,
            "grid_gap": null,
            "max_width": null,
            "order": null,
            "_view_module_version": "1.2.0",
            "grid_template_areas": null,
            "object_position": null,
            "object_fit": null,
            "grid_auto_columns": null,
            "margin": null,
            "display": null,
            "left": null
          },
          "model_module_version": "1.2.0"
        },
        "b968f830e48a4d35a019157cee7ec5ae": {
          "model_module": "@jupyter-widgets/controls",
          "model_name": "FloatProgressModel",
          "state": {
            "_view_name": "ProgressView",
            "style": "IPY_MODEL_e859c83246c649d6a00bbbf528da5d95",
            "_dom_classes": [],
            "description": "100%",
            "_model_name": "FloatProgressModel",
            "bar_style": "success",
            "max": 46830571,
            "_view_module": "@jupyter-widgets/controls",
            "_model_module_version": "1.5.0",
            "value": 46830571,
            "_view_count": null,
            "_view_module_version": "1.5.0",
            "orientation": "horizontal",
            "min": 0,
            "description_tooltip": null,
            "_model_module": "@jupyter-widgets/controls",
            "layout": "IPY_MODEL_d91ff0759741406fa2477162d70e9b3f"
          },
          "model_module_version": "1.5.0"
        },
        "b5833697b03d403aa613114df797f94a": {
          "model_module": "@jupyter-widgets/controls",
          "model_name": "HTMLModel",
          "state": {
            "_view_name": "HTMLView",
            "style": "IPY_MODEL_002f0f01a03d41779496add6f37b12c8",
            "_dom_classes": [],
            "description": "",
            "_model_name": "HTMLModel",
            "placeholder": "​",
            "_view_module": "@jupyter-widgets/controls",
            "_model_module_version": "1.5.0",
            "value": " 44.7M/44.7M [00:00&lt;00:00, 74.8MB/s]",
            "_view_count": null,
            "_view_module_version": "1.5.0",
            "description_tooltip": null,
            "_model_module": "@jupyter-widgets/controls",
            "layout": "IPY_MODEL_10b016485f67479ab7e95eee74d2ad43"
          },
          "model_module_version": "1.5.0"
        },
        "e859c83246c649d6a00bbbf528da5d95": {
          "model_module": "@jupyter-widgets/controls",
          "model_name": "ProgressStyleModel",
          "state": {
            "_view_name": "StyleView",
            "_model_name": "ProgressStyleModel",
            "description_width": "initial",
            "_view_module": "@jupyter-widgets/base",
            "_model_module_version": "1.5.0",
            "_view_count": null,
            "_view_module_version": "1.2.0",
            "bar_color": null,
            "_model_module": "@jupyter-widgets/controls"
          },
          "model_module_version": "1.5.0"
        },
        "d91ff0759741406fa2477162d70e9b3f": {
          "model_module": "@jupyter-widgets/base",
          "model_name": "LayoutModel",
          "state": {
            "_view_name": "LayoutView",
            "grid_template_rows": null,
            "right": null,
            "justify_content": null,
            "_view_module": "@jupyter-widgets/base",
            "overflow": null,
            "_model_module_version": "1.2.0",
            "_view_count": null,
            "flex_flow": null,
            "width": null,
            "min_width": null,
            "border": null,
            "align_items": null,
            "bottom": null,
            "_model_module": "@jupyter-widgets/base",
            "top": null,
            "grid_column": null,
            "overflow_y": null,
            "overflow_x": null,
            "grid_auto_flow": null,
            "grid_area": null,
            "grid_template_columns": null,
            "flex": null,
            "_model_name": "LayoutModel",
            "justify_items": null,
            "grid_row": null,
            "max_height": null,
            "align_content": null,
            "visibility": null,
            "align_self": null,
            "height": null,
            "min_height": null,
            "padding": null,
            "grid_auto_rows": null,
            "grid_gap": null,
            "max_width": null,
            "order": null,
            "_view_module_version": "1.2.0",
            "grid_template_areas": null,
            "object_position": null,
            "object_fit": null,
            "grid_auto_columns": null,
            "margin": null,
            "display": null,
            "left": null
          },
          "model_module_version": "1.2.0"
        },
        "002f0f01a03d41779496add6f37b12c8": {
          "model_module": "@jupyter-widgets/controls",
          "model_name": "DescriptionStyleModel",
          "state": {
            "_view_name": "StyleView",
            "_model_name": "DescriptionStyleModel",
            "description_width": "",
            "_view_module": "@jupyter-widgets/base",
            "_model_module_version": "1.5.0",
            "_view_count": null,
            "_view_module_version": "1.2.0",
            "_model_module": "@jupyter-widgets/controls"
          },
          "model_module_version": "1.5.0"
        },
        "10b016485f67479ab7e95eee74d2ad43": {
          "model_module": "@jupyter-widgets/base",
          "model_name": "LayoutModel",
          "state": {
            "_view_name": "LayoutView",
            "grid_template_rows": null,
            "right": null,
            "justify_content": null,
            "_view_module": "@jupyter-widgets/base",
            "overflow": null,
            "_model_module_version": "1.2.0",
            "_view_count": null,
            "flex_flow": null,
            "width": null,
            "min_width": null,
            "border": null,
            "align_items": null,
            "bottom": null,
            "_model_module": "@jupyter-widgets/base",
            "top": null,
            "grid_column": null,
            "overflow_y": null,
            "overflow_x": null,
            "grid_auto_flow": null,
            "grid_area": null,
            "grid_template_columns": null,
            "flex": null,
            "_model_name": "LayoutModel",
            "justify_items": null,
            "grid_row": null,
            "max_height": null,
            "align_content": null,
            "visibility": null,
            "align_self": null,
            "height": null,
            "min_height": null,
            "padding": null,
            "grid_auto_rows": null,
            "grid_gap": null,
            "max_width": null,
            "order": null,
            "_view_module_version": "1.2.0",
            "grid_template_areas": null,
            "object_position": null,
            "object_fit": null,
            "grid_auto_columns": null,
            "margin": null,
            "display": null,
            "left": null
          },
          "model_module_version": "1.2.0"
        },
        "933af51c18f14375b46de2ba88438292": {
          "model_module": "@jupyter-widgets/controls",
          "model_name": "HBoxModel",
          "state": {
            "_view_name": "HBoxView",
            "_dom_classes": [],
            "_model_name": "HBoxModel",
            "_view_module": "@jupyter-widgets/controls",
            "_model_module_version": "1.5.0",
            "_view_count": null,
            "_view_module_version": "1.5.0",
            "box_style": "",
            "layout": "IPY_MODEL_6e9aca4f929d42a09bc87584026a52a9",
            "_model_module": "@jupyter-widgets/controls",
            "children": [
              "IPY_MODEL_3b54136929b646568fa9107ec7e46fcf",
              "IPY_MODEL_78686aa67ceb40d4b2f936aa7bcb6a48"
            ]
          },
          "model_module_version": "1.5.0"
        },
        "6e9aca4f929d42a09bc87584026a52a9": {
          "model_module": "@jupyter-widgets/base",
          "model_name": "LayoutModel",
          "state": {
            "_view_name": "LayoutView",
            "grid_template_rows": null,
            "right": null,
            "justify_content": null,
            "_view_module": "@jupyter-widgets/base",
            "overflow": null,
            "_model_module_version": "1.2.0",
            "_view_count": null,
            "flex_flow": null,
            "width": null,
            "min_width": null,
            "border": null,
            "align_items": null,
            "bottom": null,
            "_model_module": "@jupyter-widgets/base",
            "top": null,
            "grid_column": null,
            "overflow_y": null,
            "overflow_x": null,
            "grid_auto_flow": null,
            "grid_area": null,
            "grid_template_columns": null,
            "flex": null,
            "_model_name": "LayoutModel",
            "justify_items": null,
            "grid_row": null,
            "max_height": null,
            "align_content": null,
            "visibility": null,
            "align_self": null,
            "height": null,
            "min_height": null,
            "padding": null,
            "grid_auto_rows": null,
            "grid_gap": null,
            "max_width": null,
            "order": null,
            "_view_module_version": "1.2.0",
            "grid_template_areas": null,
            "object_position": null,
            "object_fit": null,
            "grid_auto_columns": null,
            "margin": null,
            "display": null,
            "left": null
          },
          "model_module_version": "1.2.0"
        },
        "3b54136929b646568fa9107ec7e46fcf": {
          "model_module": "@jupyter-widgets/controls",
          "model_name": "FloatProgressModel",
          "state": {
            "_view_name": "ProgressView",
            "style": "IPY_MODEL_d4af72bf3b984fd9b674bb3c43a6fdea",
            "_dom_classes": [],
            "description": "",
            "_model_name": "FloatProgressModel",
            "bar_style": "success",
            "max": 170498071,
            "_view_module": "@jupyter-widgets/controls",
            "_model_module_version": "1.5.0",
            "value": 170498071,
            "_view_count": null,
            "_view_module_version": "1.5.0",
            "orientation": "horizontal",
            "min": 0,
            "description_tooltip": null,
            "_model_module": "@jupyter-widgets/controls",
            "layout": "IPY_MODEL_518eecccf5e74767b0d837e02c3e6c0b"
          },
          "model_module_version": "1.5.0"
        },
        "78686aa67ceb40d4b2f936aa7bcb6a48": {
          "model_module": "@jupyter-widgets/controls",
          "model_name": "HTMLModel",
          "state": {
            "_view_name": "HTMLView",
            "style": "IPY_MODEL_b0b41d8be3bb46d68274ce173e63ef8f",
            "_dom_classes": [],
            "description": "",
            "_model_name": "HTMLModel",
            "placeholder": "​",
            "_view_module": "@jupyter-widgets/controls",
            "_model_module_version": "1.5.0",
            "value": " 170499072/? [00:05&lt;00:00, 32791285.21it/s]",
            "_view_count": null,
            "_view_module_version": "1.5.0",
            "description_tooltip": null,
            "_model_module": "@jupyter-widgets/controls",
            "layout": "IPY_MODEL_d069613e8fa3482b99b1e84f4f87e36f"
          },
          "model_module_version": "1.5.0"
        },
        "d4af72bf3b984fd9b674bb3c43a6fdea": {
          "model_module": "@jupyter-widgets/controls",
          "model_name": "ProgressStyleModel",
          "state": {
            "_view_name": "StyleView",
            "_model_name": "ProgressStyleModel",
            "description_width": "initial",
            "_view_module": "@jupyter-widgets/base",
            "_model_module_version": "1.5.0",
            "_view_count": null,
            "_view_module_version": "1.2.0",
            "bar_color": null,
            "_model_module": "@jupyter-widgets/controls"
          },
          "model_module_version": "1.5.0"
        },
        "518eecccf5e74767b0d837e02c3e6c0b": {
          "model_module": "@jupyter-widgets/base",
          "model_name": "LayoutModel",
          "state": {
            "_view_name": "LayoutView",
            "grid_template_rows": null,
            "right": null,
            "justify_content": null,
            "_view_module": "@jupyter-widgets/base",
            "overflow": null,
            "_model_module_version": "1.2.0",
            "_view_count": null,
            "flex_flow": null,
            "width": null,
            "min_width": null,
            "border": null,
            "align_items": null,
            "bottom": null,
            "_model_module": "@jupyter-widgets/base",
            "top": null,
            "grid_column": null,
            "overflow_y": null,
            "overflow_x": null,
            "grid_auto_flow": null,
            "grid_area": null,
            "grid_template_columns": null,
            "flex": null,
            "_model_name": "LayoutModel",
            "justify_items": null,
            "grid_row": null,
            "max_height": null,
            "align_content": null,
            "visibility": null,
            "align_self": null,
            "height": null,
            "min_height": null,
            "padding": null,
            "grid_auto_rows": null,
            "grid_gap": null,
            "max_width": null,
            "order": null,
            "_view_module_version": "1.2.0",
            "grid_template_areas": null,
            "object_position": null,
            "object_fit": null,
            "grid_auto_columns": null,
            "margin": null,
            "display": null,
            "left": null
          },
          "model_module_version": "1.2.0"
        },
        "b0b41d8be3bb46d68274ce173e63ef8f": {
          "model_module": "@jupyter-widgets/controls",
          "model_name": "DescriptionStyleModel",
          "state": {
            "_view_name": "StyleView",
            "_model_name": "DescriptionStyleModel",
            "description_width": "",
            "_view_module": "@jupyter-widgets/base",
            "_model_module_version": "1.5.0",
            "_view_count": null,
            "_view_module_version": "1.2.0",
            "_model_module": "@jupyter-widgets/controls"
          },
          "model_module_version": "1.5.0"
        },
        "d069613e8fa3482b99b1e84f4f87e36f": {
          "model_module": "@jupyter-widgets/base",
          "model_name": "LayoutModel",
          "state": {
            "_view_name": "LayoutView",
            "grid_template_rows": null,
            "right": null,
            "justify_content": null,
            "_view_module": "@jupyter-widgets/base",
            "overflow": null,
            "_model_module_version": "1.2.0",
            "_view_count": null,
            "flex_flow": null,
            "width": null,
            "min_width": null,
            "border": null,
            "align_items": null,
            "bottom": null,
            "_model_module": "@jupyter-widgets/base",
            "top": null,
            "grid_column": null,
            "overflow_y": null,
            "overflow_x": null,
            "grid_auto_flow": null,
            "grid_area": null,
            "grid_template_columns": null,
            "flex": null,
            "_model_name": "LayoutModel",
            "justify_items": null,
            "grid_row": null,
            "max_height": null,
            "align_content": null,
            "visibility": null,
            "align_self": null,
            "height": null,
            "min_height": null,
            "padding": null,
            "grid_auto_rows": null,
            "grid_gap": null,
            "max_width": null,
            "order": null,
            "_view_module_version": "1.2.0",
            "grid_template_areas": null,
            "object_position": null,
            "object_fit": null,
            "grid_auto_columns": null,
            "margin": null,
            "display": null,
            "left": null
          },
          "model_module_version": "1.2.0"
        }
      }
    }
  },
  "cells": [
    {
      "cell_type": "markdown",
      "metadata": {
        "id": "view-in-github",
        "colab_type": "text"
      },
      "source": [
        "<a href=\"https://colab.research.google.com/github/Akk216/GeNWrK/blob/main/CH20B017_CIFAR%26IOU_Pytorch_Project.ipynb\" target=\"_parent\"><img src=\"https://colab.research.google.com/assets/colab-badge.svg\" alt=\"Open In Colab\"/></a>"
      ]
    },
    {
      "cell_type": "markdown",
      "metadata": {
        "id": "diyGYvVzkzVq"
      },
      "source": [
        "#TASK 1\n",
        "\n",
        "1.   PyTorch provides two data primitives: `torch.utils.data.DataLoader` and `torch.utils.data.Dataset` that allow you to use pre-loaded datasets as well as your own data. Use the `torchvision.datasets` to import preloaded Dataset [`CIFAR`](https://pytorch.org/vision/stable/datasets.html#cifar) to train and then finetune the ResNet18 model."
      ]
    },
    {
      "cell_type": "code",
      "metadata": {
        "id": "XJgrC7WpnGIf",
        "colab": {
          "base_uri": "https://localhost:8080/",
          "height": 82,
          "referenced_widgets": [
            "e5bdbfc9affe49c8823925cd6ceb7df8",
            "e81d0cc0e2d5412b80c6838f3ececec2",
            "b968f830e48a4d35a019157cee7ec5ae",
            "b5833697b03d403aa613114df797f94a",
            "e859c83246c649d6a00bbbf528da5d95",
            "d91ff0759741406fa2477162d70e9b3f",
            "002f0f01a03d41779496add6f37b12c8",
            "10b016485f67479ab7e95eee74d2ad43"
          ]
        },
        "outputId": "1ab95aae-16ae-4caa-b3f2-549b15f37b28"
      },
      "source": [
        "#Loading in Resnet18 pre-trained Model\n",
        "\n",
        "''' Enter your code here''' \n",
        "from torchvision import models\n",
        "model = models.resnet18(pretrained = True)\n",
        "\n",
        "#You can use ```dir(models)``` to see various models available for Transfer Learning"
      ],
      "execution_count": null,
      "outputs": [
        {
          "output_type": "stream",
          "text": [
            "Downloading: \"https://download.pytorch.org/models/resnet18-f37072fd.pth\" to /root/.cache/torch/hub/checkpoints/resnet18-f37072fd.pth\n"
          ],
          "name": "stderr"
        },
        {
          "output_type": "display_data",
          "data": {
            "application/vnd.jupyter.widget-view+json": {
              "model_id": "e5bdbfc9affe49c8823925cd6ceb7df8",
              "version_minor": 0,
              "version_major": 2
            },
            "text/plain": [
              "HBox(children=(FloatProgress(value=0.0, max=46830571.0), HTML(value='')))"
            ]
          },
          "metadata": {
            "tags": []
          }
        },
        {
          "output_type": "stream",
          "text": [
            "\n"
          ],
          "name": "stdout"
        }
      ]
    },
    {
      "cell_type": "code",
      "metadata": {
        "id": "rjzwC2bQn2gb"
      },
      "source": [
        "#Freeze the model weights\n",
        "'''Enter your code here'''\n",
        "for param in model.parameters():\n",
        "    param.requires_grad = False\n"
      ],
      "execution_count": null,
      "outputs": []
    },
    {
      "cell_type": "code",
      "metadata": {
        "id": "qSoIrAU6n76g",
        "colab": {
          "base_uri": "https://localhost:8080/"
        },
        "outputId": "1e656e4d-5dce-441f-eb8f-90127f595f75"
      },
      "source": [
        "#Add the fully connected layer\n",
        "#Here replace num_classes with number of classes you are classifying \n",
        "num_classes=10\n",
        "import torch\n",
        "import torch.nn as nn\n",
        "model.fc = nn.Linear(512, num_classes)\n",
        "#Check model summary once to ensure the changes you made\n",
        "if torch.cuda.is_available():\n",
        "  model.cuda()\n",
        "from torchsummary import summary\n",
        "summary(model, input_size=(3, 64, 64), batch_size=128,device='cuda')\n",
        "#Check model summary once to ensure the changes you made"
      ],
      "execution_count": null,
      "outputs": [
        {
          "output_type": "stream",
          "text": [
            "----------------------------------------------------------------\n",
            "        Layer (type)               Output Shape         Param #\n",
            "================================================================\n",
            "            Conv2d-1          [128, 64, 32, 32]           9,408\n",
            "       BatchNorm2d-2          [128, 64, 32, 32]             128\n",
            "              ReLU-3          [128, 64, 32, 32]               0\n",
            "         MaxPool2d-4          [128, 64, 16, 16]               0\n",
            "            Conv2d-5          [128, 64, 16, 16]          36,864\n",
            "       BatchNorm2d-6          [128, 64, 16, 16]             128\n",
            "              ReLU-7          [128, 64, 16, 16]               0\n",
            "            Conv2d-8          [128, 64, 16, 16]          36,864\n",
            "       BatchNorm2d-9          [128, 64, 16, 16]             128\n",
            "             ReLU-10          [128, 64, 16, 16]               0\n",
            "       BasicBlock-11          [128, 64, 16, 16]               0\n",
            "           Conv2d-12          [128, 64, 16, 16]          36,864\n",
            "      BatchNorm2d-13          [128, 64, 16, 16]             128\n",
            "             ReLU-14          [128, 64, 16, 16]               0\n",
            "           Conv2d-15          [128, 64, 16, 16]          36,864\n",
            "      BatchNorm2d-16          [128, 64, 16, 16]             128\n",
            "             ReLU-17          [128, 64, 16, 16]               0\n",
            "       BasicBlock-18          [128, 64, 16, 16]               0\n",
            "           Conv2d-19           [128, 128, 8, 8]          73,728\n",
            "      BatchNorm2d-20           [128, 128, 8, 8]             256\n",
            "             ReLU-21           [128, 128, 8, 8]               0\n",
            "           Conv2d-22           [128, 128, 8, 8]         147,456\n",
            "      BatchNorm2d-23           [128, 128, 8, 8]             256\n",
            "           Conv2d-24           [128, 128, 8, 8]           8,192\n",
            "      BatchNorm2d-25           [128, 128, 8, 8]             256\n",
            "             ReLU-26           [128, 128, 8, 8]               0\n",
            "       BasicBlock-27           [128, 128, 8, 8]               0\n",
            "           Conv2d-28           [128, 128, 8, 8]         147,456\n",
            "      BatchNorm2d-29           [128, 128, 8, 8]             256\n",
            "             ReLU-30           [128, 128, 8, 8]               0\n",
            "           Conv2d-31           [128, 128, 8, 8]         147,456\n",
            "      BatchNorm2d-32           [128, 128, 8, 8]             256\n",
            "             ReLU-33           [128, 128, 8, 8]               0\n",
            "       BasicBlock-34           [128, 128, 8, 8]               0\n",
            "           Conv2d-35           [128, 256, 4, 4]         294,912\n",
            "      BatchNorm2d-36           [128, 256, 4, 4]             512\n",
            "             ReLU-37           [128, 256, 4, 4]               0\n",
            "           Conv2d-38           [128, 256, 4, 4]         589,824\n",
            "      BatchNorm2d-39           [128, 256, 4, 4]             512\n",
            "           Conv2d-40           [128, 256, 4, 4]          32,768\n",
            "      BatchNorm2d-41           [128, 256, 4, 4]             512\n",
            "             ReLU-42           [128, 256, 4, 4]               0\n",
            "       BasicBlock-43           [128, 256, 4, 4]               0\n",
            "           Conv2d-44           [128, 256, 4, 4]         589,824\n",
            "      BatchNorm2d-45           [128, 256, 4, 4]             512\n",
            "             ReLU-46           [128, 256, 4, 4]               0\n",
            "           Conv2d-47           [128, 256, 4, 4]         589,824\n",
            "      BatchNorm2d-48           [128, 256, 4, 4]             512\n",
            "             ReLU-49           [128, 256, 4, 4]               0\n",
            "       BasicBlock-50           [128, 256, 4, 4]               0\n",
            "           Conv2d-51           [128, 512, 2, 2]       1,179,648\n",
            "      BatchNorm2d-52           [128, 512, 2, 2]           1,024\n",
            "             ReLU-53           [128, 512, 2, 2]               0\n",
            "           Conv2d-54           [128, 512, 2, 2]       2,359,296\n",
            "      BatchNorm2d-55           [128, 512, 2, 2]           1,024\n",
            "           Conv2d-56           [128, 512, 2, 2]         131,072\n",
            "      BatchNorm2d-57           [128, 512, 2, 2]           1,024\n",
            "             ReLU-58           [128, 512, 2, 2]               0\n",
            "       BasicBlock-59           [128, 512, 2, 2]               0\n",
            "           Conv2d-60           [128, 512, 2, 2]       2,359,296\n",
            "      BatchNorm2d-61           [128, 512, 2, 2]           1,024\n",
            "             ReLU-62           [128, 512, 2, 2]               0\n",
            "           Conv2d-63           [128, 512, 2, 2]       2,359,296\n",
            "      BatchNorm2d-64           [128, 512, 2, 2]           1,024\n",
            "             ReLU-65           [128, 512, 2, 2]               0\n",
            "       BasicBlock-66           [128, 512, 2, 2]               0\n",
            "AdaptiveAvgPool2d-67           [128, 512, 1, 1]               0\n",
            "           Linear-68                  [128, 10]           5,130\n",
            "================================================================\n",
            "Total params: 11,181,642\n",
            "Trainable params: 5,130\n",
            "Non-trainable params: 11,176,512\n",
            "----------------------------------------------------------------\n",
            "Input size (MB): 6.00\n",
            "Forward/backward pass size (MB): 656.51\n",
            "Params size (MB): 42.65\n",
            "Estimated Total Size (MB): 705.16\n",
            "----------------------------------------------------------------\n"
          ],
          "name": "stdout"
        },
        {
          "output_type": "stream",
          "text": [
            "/usr/local/lib/python3.7/dist-packages/torch/nn/functional.py:718: UserWarning: Named tensors and all their associated APIs are an experimental feature and subject to change. Please do not use them for anything important until they are released as stable. (Triggered internally at  /pytorch/c10/core/TensorImpl.h:1156.)\n",
            "  return torch.max_pool2d(input, kernel_size, stride, padding, dilation, ceil_mode)\n"
          ],
          "name": "stderr"
        }
      ]
    },
    {
      "cell_type": "code",
      "metadata": {
        "id": "DHMBSI5sodWR"
      },
      "source": [
        "#Define your transformations to be applied on the images here\n",
        "from torchvision import transforms\n",
        "'''your code here'''\n",
        "train = transforms.Compose([   \n",
        "         #Pads the image          \n",
        "         #Rotates,translates,scales,etc. images \n",
        "        transforms.Resize(64),  # Note that we want to use Inception v3, it requires this size of images\n",
        "        transforms.RandomHorizontalFlip(),  #Now we are not using vertical flip because we don't expect such an input in real life\n",
        "        transforms.ToTensor(),              \n",
        "        transforms.Normalize([0.485, 0.456, 0.406], [0.229, 0.224, 0.225]),  #Standard ImageNet values for pretrained models\n",
        "    ])\n",
        "\n",
        "val = transforms.Compose([     \n",
        "        transforms.Resize(64),\n",
        "        transforms.ToTensor(),\n",
        "        transforms.Normalize([0.485, 0.456, 0.406], [0.229, 0.224, 0.225]),\n",
        "    ])"
      ],
      "execution_count": null,
      "outputs": []
    },
    {
      "cell_type": "code",
      "metadata": {
        "id": "P4yH2jVupCQs",
        "colab": {
          "base_uri": "https://localhost:8080/",
          "height": 99,
          "referenced_widgets": [
            "933af51c18f14375b46de2ba88438292",
            "6e9aca4f929d42a09bc87584026a52a9",
            "3b54136929b646568fa9107ec7e46fcf",
            "78686aa67ceb40d4b2f936aa7bcb6a48",
            "d4af72bf3b984fd9b674bb3c43a6fdea",
            "518eecccf5e74767b0d837e02c3e6c0b",
            "b0b41d8be3bb46d68274ce173e63ef8f",
            "d069613e8fa3482b99b1e84f4f87e36f"
          ]
        },
        "outputId": "15c90914-5add-4d07-a3d5-88e191b87e60"
      },
      "source": [
        "#Import the CIFAR apply the transformations you created above\n",
        "#You can access the link given in question statement to check syntax for importing fakedata dataset\n",
        "\n",
        "'''your code here'''\n",
        "from torchvision.datasets import CIFAR10\n",
        "dataset=CIFAR10(root='/data',download=True,transform=train)\n",
        "val_size=int(0.1*len(dataset))\n",
        "train_size=len(dataset)-val_size\n",
        "train_ds,val_ds=torch.utils.data.dataset.random_split(dataset,[train_size,val_size])\n",
        "#Remember to split the dataset into train_dataset and val_dataset"
      ],
      "execution_count": null,
      "outputs": [
        {
          "output_type": "stream",
          "text": [
            "Downloading https://www.cs.toronto.edu/~kriz/cifar-10-python.tar.gz to /data/cifar-10-python.tar.gz\n"
          ],
          "name": "stdout"
        },
        {
          "output_type": "display_data",
          "data": {
            "application/vnd.jupyter.widget-view+json": {
              "model_id": "933af51c18f14375b46de2ba88438292",
              "version_minor": 0,
              "version_major": 2
            },
            "text/plain": [
              "HBox(children=(FloatProgress(value=0.0, max=170498071.0), HTML(value='')))"
            ]
          },
          "metadata": {
            "tags": []
          }
        },
        {
          "output_type": "stream",
          "text": [
            "\n",
            "Extracting /data/cifar-10-python.tar.gz to /data\n"
          ],
          "name": "stdout"
        }
      ]
    },
    {
      "cell_type": "code",
      "metadata": {
        "id": "bOaEQtsEptTl"
      },
      "source": [
        "#Create DataLoaders for you train and val Datasets\n",
        "'''your code here'''\n",
        "from torch.utils.data import DataLoader\n",
        "batch_size=128\n",
        "train_dl=DataLoader(train_ds,batch_size,shuffle=True)\n",
        "val_dl=DataLoader(val_ds,batch_size,shuffle=True)"
      ],
      "execution_count": null,
      "outputs": []
    },
    {
      "cell_type": "code",
      "metadata": {
        "id": "KAP-ANphYR7W",
        "colab": {
          "base_uri": "https://localhost:8080/",
          "height": 35
        },
        "outputId": "a4265ce8-0a37-4582-af0a-3d3962166e0e"
      },
      "source": [
        "dataset.classes[2]"
      ],
      "execution_count": null,
      "outputs": [
        {
          "output_type": "execute_result",
          "data": {
            "application/vnd.google.colaboratory.intrinsic+json": {
              "type": "string"
            },
            "text/plain": [
              "'bird'"
            ]
          },
          "metadata": {
            "tags": []
          },
          "execution_count": 7
        }
      ]
    },
    {
      "cell_type": "code",
      "metadata": {
        "id": "SWE6Pe9oYZNm",
        "colab": {
          "base_uri": "https://localhost:8080/",
          "height": 282
        },
        "outputId": "42dcc34e-3ef8-4911-dc9e-c6b70ab085c8"
      },
      "source": [
        "import matplotlib.pyplot as plt\n",
        "import numpy as np\n",
        "def show_sample(image, label, dataset):\n",
        "    print(\"Label:\", dataset.classes[label], \"(Class No: \"+ str(label) + \")\")\n",
        "    print(img.size())\n",
        "    # Set the color channel as the third dimension\n",
        "    image = image.numpy().transpose((1, 2, 0))\n",
        "    #Reverse the preprocessing steps\n",
        "    mean = np.array([0.485, 0.456, 0.406])\n",
        "    std = np.array([0.229, 0.224, 0.225])\n",
        "    image = std * image + mean\n",
        "    image = np.clip(image, 0,1)\n",
        "    plt.imshow(image)\n",
        "    plt.axis('off')\n",
        "\n",
        "a=torch.randint(low=0,high=100,size=[1])\n",
        "img,label=train_ds[a]\n",
        "show_sample(img,label,dataset)"
      ],
      "execution_count": null,
      "outputs": [
        {
          "output_type": "stream",
          "text": [
            "Label: cat (Class No: 3)\n",
            "torch.Size([3, 64, 64])\n"
          ],
          "name": "stdout"
        },
        {
          "output_type": "display_data",
          "data": {
            "image/png": "[encoded data removed]",
            "text/plain": [
              "<Figure size 432x288 with 1 Axes>"
            ]
          },
          "metadata": {
            "tags": [],
            "needs_background": "light"
          }
        }
      ]
    },
    {
      "cell_type": "code",
      "metadata": {
        "colab": {
          "base_uri": "https://localhost:8080/"
        },
        "id": "1UyzisJ8X7Ic",
        "outputId": "ea2d52c5-9896-4fb0-95ba-92de3306b705"
      },
      "source": [
        "for images,label in train_dl:\n",
        "  if torch.cuda.is_available():\n",
        "    images=images.cuda()\n",
        "  out=model(images)\n",
        "  out,preds=torch.max(out,axis=1)\n",
        "  print(preds)\n",
        "  break"
      ],
      "execution_count": null,
      "outputs": [
        {
          "output_type": "stream",
          "text": [
            "tensor([8, 2, 8, 2, 3, 2, 2, 2, 2, 2, 3, 1, 2, 2, 8, 2, 2, 1, 2, 2, 8, 2, 9, 8,\n",
            "        3, 6, 2, 2, 2, 3, 2, 2, 2, 2, 2, 1, 3, 2, 2, 2, 2, 9, 9, 2, 1, 2, 1, 2,\n",
            "        8, 3, 8, 1, 1, 2, 8, 3, 2, 2, 2, 5, 2, 8, 2, 3, 9, 2, 2, 6, 2, 2, 2, 8,\n",
            "        9, 3, 2, 4, 3, 8, 2, 1, 2, 9, 5, 2, 2, 9, 4, 2, 2, 2, 2, 8, 2, 2, 2, 2,\n",
            "        2, 2, 0, 8, 8, 2, 2, 3, 2, 8, 9, 1, 8, 2, 1, 0, 8, 2, 2, 2, 2, 0, 2, 2,\n",
            "        3, 9, 1, 2, 8, 2, 1, 2], device='cuda:0')\n"
          ],
          "name": "stdout"
        }
      ]
    },
    {
      "cell_type": "code",
      "metadata": {
        "colab": {
          "base_uri": "https://localhost:8080/"
        },
        "id": "JA4B_w8OLwHM",
        "outputId": "11b32179-f8a2-4233-e6ac-e9bca6c15e4e"
      },
      "source": [
        "%%time\n",
        "import numpy as np\n",
        "import torch\n",
        "\n",
        "\n",
        "def train(model,\n",
        "          criterion,\n",
        "          optimizer,          \n",
        "          train_loader,\n",
        "          valid_loader,\n",
        "          save_file_name,\n",
        "          max_epochs_stop=3,\n",
        "          n_epochs=20,\n",
        "          print_every=2):\n",
        "  \n",
        "  # Early stopping intialization\n",
        "    epochs_no_improve = 0\n",
        "    valid_loss_min = np.Inf\n",
        "\n",
        "    valid_max_acc = 0\n",
        "    \n",
        "\n",
        "     # Number of epochs already trained (if using loaded in model weights)\n",
        "    try:\n",
        "        print(f'Model has been trained for: {model.epochs} epochs.\\n')\n",
        "    except:\n",
        "        model.epochs = 0\n",
        "        print(f'Starting Training from Scratch.\\n')\n",
        "    \n",
        "    # Main loop\n",
        "    for epoch in range(n_epochs):\n",
        "\n",
        "        # keep track of training and validation loss each epoch\n",
        "        train_loss = 0.0\n",
        "        valid_loss = 0.0\n",
        "\n",
        "        train_acc = 0\n",
        "        valid_acc = 0\n",
        "\n",
        "        # Set to training\n",
        "        model.train()\n",
        "       \n",
        "        # Training loop\n",
        "        for ii, (data, target) in enumerate(train_loader):\n",
        "            # Tensors to gpu\n",
        "            if torch.cuda.is_available():\n",
        "              data, target = data.cuda(), target.cuda()\n",
        "\n",
        "            # Clear gradients\n",
        "            optimizer.zero_grad()\n",
        "            # Get model outputs and calculate loss\n",
        " \n",
        "            output = model(data)\n",
        "\n",
        "            # Loss and backpropagation of gradients\n",
        "            loss= criterion(output, target)\n",
        "            loss.backward()\n",
        "\n",
        "            # Update the parameters\n",
        "            optimizer.step()\n",
        "\n",
        "            # Track train loss by multiplying average loss by number of examples in batch\n",
        "            train_loss += loss.item() * data.size(0)\n",
        "\n",
        "            # Calculate accuracy by finding max probability\n",
        "            _, pred = torch.max(output, dim=1)\n",
        "            correct_tensor = pred.eq(target.data.view_as(pred))\n",
        "            # Need to convert correct tensor from int to float to average\n",
        "            accuracy = torch.mean(correct_tensor.type(torch.FloatTensor))\n",
        "            # Multiply average accuracy times the number of examples in batch\n",
        "            train_acc += accuracy.item() * data.size(0)\n",
        "\n",
        "            \n",
        "        # After training loops ends, start validation\n",
        "        else:\n",
        "            model.epochs += 1\n",
        "\n",
        "            # Don't need to keep track of gradients\n",
        "            with torch.no_grad():\n",
        "                # Set to evaluation mode\n",
        "                model.eval()\n",
        "\n",
        "                # Validation loop\n",
        "                for data, target in valid_loader:\n",
        "                    # Tensors to gpu\n",
        "                    if torch.cuda.is_available():\n",
        "                      data, target = data.cuda(), target.cuda()\n",
        "\n",
        "                    # Forward pass\n",
        "                    output = model(data)\n",
        "\n",
        "                    # Validation loss\n",
        "                    loss = criterion(output, target)\n",
        "                    # Multiply average loss times the number of examples in batch\n",
        "                    valid_loss += loss.item() * data.size(0)\n",
        "\n",
        "                    # Calculate validation accuracy\n",
        "                    _, pred = torch.max(output, dim=1)\n",
        "                    correct_tensor = pred.eq(target.data.view_as(pred))\n",
        "                    accuracy = torch.mean(correct_tensor.type(torch.FloatTensor))\n",
        "                    # Multiply average accuracy times the number of examples\n",
        "                    valid_acc += accuracy.item() * data.size(0)\n",
        "\n",
        "                # Calculate average losses\n",
        "                train_loss = train_loss / len(train_loader.dataset)\n",
        "                valid_loss = valid_loss / len(valid_loader.dataset)\n",
        "\n",
        "                # Calculate average accuracy\n",
        "                train_acc = train_acc / len(train_loader.dataset)\n",
        "                valid_acc = valid_acc / len(valid_loader.dataset)\n",
        "\n",
        "                \n",
        "\n",
        "                # Print training and validation results\n",
        "                if (epoch + 1) % print_every == 0:\n",
        "                    print(\n",
        "                        f'\\nEpoch: {epoch} \\tTraining Loss: {train_loss:.4f} \\t\\t\\t Validation Loss: {valid_loss:.4f}'\n",
        "                    )\n",
        "                    print(\n",
        "                        f'\\t\\tTraining Accuracy: {100 * train_acc:.2f}%\\t\\t Validation Accuracy: {100 * valid_acc:.2f}%'\n",
        "                    )\n",
        "\n",
        "                # Save the model if validation loss decreases\n",
        "                if valid_loss < valid_loss_min:\n",
        "                    # Save model\n",
        "                    torch.save(model.state_dict(), save_file_name)\n",
        "                    # Track improvement\n",
        "                    epochs_no_improve = 0\n",
        "                    valid_loss_min = valid_loss\n",
        "                    valid_best_acc = valid_acc\n",
        "                    best_epoch = epoch\n",
        "\n",
        "                # Otherwise increment count of epochs with no improvement\n",
        "                else:\n",
        "                    epochs_no_improve += 1\n",
        "                    # Trigger early stopping\n",
        "                    if epochs_no_improve >= max_epochs_stop:\n",
        "                        print(\n",
        "                            f'\\nEarly Stopping! Total epochs: {epoch}. Best epoch: {best_epoch} with loss: {valid_loss_min:.2f} and acc: {100 * valid_acc:.2f}%'\n",
        "                        )\n",
        "                        \n",
        "\n",
        "                        # Load the best state dict\n",
        "                        model.load_state_dict(torch.load(save_file_name))\n",
        "                        # Attach the optimizer\n",
        "                        model.optimizer = optimizer\n",
        "\n",
        "                        \n",
        "                        return model\n",
        "\n",
        "    # Attach the optimizer\n",
        "    model.optimizer = optimizer\n",
        "    # Record overall time and print out stats\n",
        "   \n",
        "    print(\n",
        "        f'\\nBest epoch: {best_epoch} with loss: {valid_loss_min:.2f} and acc: {100 * valid_acc:.2f}%'\n",
        "    )\n",
        "   \n",
        "    return model\n"
      ],
      "execution_count": null,
      "outputs": [
        {
          "output_type": "stream",
          "text": [
            "CPU times: user 9 µs, sys: 0 ns, total: 9 µs\n",
            "Wall time: 12.2 µs\n"
          ],
          "name": "stdout"
        }
      ]
    },
    {
      "cell_type": "code",
      "metadata": {
        "id": "8IjY3-y6NmDi"
      },
      "source": [
        "from torch import optim\n",
        "criterion = nn.CrossEntropyLoss()\n",
        "optimizer = optim.Adam(model.parameters(), lr=0.01)"
      ],
      "execution_count": null,
      "outputs": []
    },
    {
      "cell_type": "code",
      "metadata": {
        "colab": {
          "base_uri": "https://localhost:8080/"
        },
        "id": "rK5F2bVjNoa9",
        "outputId": "fb6199b4-936c-4ad9-ebc8-42ff944abf02"
      },
      "source": [
        "%%time\n",
        "model = train(\n",
        "    model,\n",
        "    criterion,\n",
        "    optimizer,\n",
        "    train_dl,\n",
        "    val_dl,\n",
        "    save_file_name=\"best.pth\",\n",
        "    max_epochs_stop=5,\n",
        "    n_epochs=30,\n",
        "    print_every=1)"
      ],
      "execution_count": null,
      "outputs": [
        {
          "output_type": "stream",
          "text": [
            "Starting Training from Scratch.\n",
            "\n",
            "\n",
            "Epoch: 0 \tTraining Loss: 1.3623 \t\t\tValidation Loss: 1.3119\n",
            "\t\tTraining Accuracy: 57.24%\t\t Validation Accuracy: 58.82%\n",
            "\n",
            "Epoch: 1 \tTraining Loss: 1.3224 \t\t\tValidation Loss: 1.2941\n",
            "\t\tTraining Accuracy: 59.79%\t\t Validation Accuracy: 60.80%\n",
            "\n",
            "Epoch: 2 \tTraining Loss: 1.3327 \t\t\tValidation Loss: 1.2898\n",
            "\t\tTraining Accuracy: 60.06%\t\t Validation Accuracy: 61.44%\n",
            "\n",
            "Epoch: 3 \tTraining Loss: 1.3468 \t\t\tValidation Loss: 1.4193\n",
            "\t\tTraining Accuracy: 60.10%\t\t Validation Accuracy: 59.50%\n",
            "\n",
            "Epoch: 4 \tTraining Loss: 1.3490 \t\t\tValidation Loss: 1.2843\n",
            "\t\tTraining Accuracy: 60.16%\t\t Validation Accuracy: 61.56%\n",
            "\n",
            "Epoch: 5 \tTraining Loss: 1.3279 \t\t\tValidation Loss: 1.2896\n",
            "\t\tTraining Accuracy: 60.48%\t\t Validation Accuracy: 60.80%\n",
            "\n",
            "Epoch: 6 \tTraining Loss: 1.3399 \t\t\tValidation Loss: 1.2596\n",
            "\t\tTraining Accuracy: 60.33%\t\t Validation Accuracy: 62.52%\n",
            "\n",
            "Epoch: 7 \tTraining Loss: 1.3535 \t\t\tValidation Loss: 1.3332\n",
            "\t\tTraining Accuracy: 60.13%\t\t Validation Accuracy: 61.10%\n",
            "\n",
            "Epoch: 8 \tTraining Loss: 1.3768 \t\t\tValidation Loss: 1.4113\n",
            "\t\tTraining Accuracy: 59.99%\t\t Validation Accuracy: 60.74%\n",
            "\n",
            "Epoch: 9 \tTraining Loss: 1.3451 \t\t\tValidation Loss: 1.3465\n",
            "\t\tTraining Accuracy: 60.55%\t\t Validation Accuracy: 61.14%\n",
            "\n",
            "Epoch: 10 \tTraining Loss: 1.3699 \t\t\tValidation Loss: 1.3953\n",
            "\t\tTraining Accuracy: 59.92%\t\t Validation Accuracy: 60.78%\n",
            "\n",
            "Epoch: 11 \tTraining Loss: 1.3522 \t\t\tValidation Loss: 1.3567\n",
            "\t\tTraining Accuracy: 60.32%\t\t Validation Accuracy: 60.44%\n",
            "\n",
            "Early Stopping! Total epochs: 11. Best epoch: 6 with loss: 1.26 and acc: 60.44%\n",
            "CPU times: user 5min 30s, sys: 1.44 s, total: 5min 31s\n",
            "Wall time: 5min 30s\n"
          ],
          "name": "stdout"
        }
      ]
    },
    {
      "cell_type": "code",
      "metadata": {
        "id": "SZ9tp0uTfqoh",
        "colab": {
          "base_uri": "https://localhost:8080/"
        },
        "outputId": "31ea0d75-1b1e-42d3-bd31-fa79b51d2d9b"
      },
      "source": [
        "'''Unfreeze models and improve accuracy'''\n",
        "for param in model.parameters():\n",
        "    param.requires_grad = True\n",
        "summary(model, input_size=(3,64,64), batch_size=128, device='cuda')"
      ],
      "execution_count": null,
      "outputs": [
        {
          "output_type": "stream",
          "text": [
            "----------------------------------------------------------------\n",
            "        Layer (type)               Output Shape         Param #\n",
            "================================================================\n",
            "            Conv2d-1          [128, 64, 32, 32]           9,408\n",
            "       BatchNorm2d-2          [128, 64, 32, 32]             128\n",
            "              ReLU-3          [128, 64, 32, 32]               0\n",
            "         MaxPool2d-4          [128, 64, 16, 16]               0\n",
            "            Conv2d-5          [128, 64, 16, 16]          36,864\n",
            "       BatchNorm2d-6          [128, 64, 16, 16]             128\n",
            "              ReLU-7          [128, 64, 16, 16]               0\n",
            "            Conv2d-8          [128, 64, 16, 16]          36,864\n",
            "       BatchNorm2d-9          [128, 64, 16, 16]             128\n",
            "             ReLU-10          [128, 64, 16, 16]               0\n",
            "       BasicBlock-11          [128, 64, 16, 16]               0\n",
            "           Conv2d-12          [128, 64, 16, 16]          36,864\n",
            "      BatchNorm2d-13          [128, 64, 16, 16]             128\n",
            "             ReLU-14          [128, 64, 16, 16]               0\n",
            "           Conv2d-15          [128, 64, 16, 16]          36,864\n",
            "      BatchNorm2d-16          [128, 64, 16, 16]             128\n",
            "             ReLU-17          [128, 64, 16, 16]               0\n",
            "       BasicBlock-18          [128, 64, 16, 16]               0\n",
            "           Conv2d-19           [128, 128, 8, 8]          73,728\n",
            "      BatchNorm2d-20           [128, 128, 8, 8]             256\n",
            "             ReLU-21           [128, 128, 8, 8]               0\n",
            "           Conv2d-22           [128, 128, 8, 8]         147,456\n",
            "      BatchNorm2d-23           [128, 128, 8, 8]             256\n",
            "           Conv2d-24           [128, 128, 8, 8]           8,192\n",
            "      BatchNorm2d-25           [128, 128, 8, 8]             256\n",
            "             ReLU-26           [128, 128, 8, 8]               0\n",
            "       BasicBlock-27           [128, 128, 8, 8]               0\n",
            "           Conv2d-28           [128, 128, 8, 8]         147,456\n",
            "      BatchNorm2d-29           [128, 128, 8, 8]             256\n",
            "             ReLU-30           [128, 128, 8, 8]               0\n",
            "           Conv2d-31           [128, 128, 8, 8]         147,456\n",
            "      BatchNorm2d-32           [128, 128, 8, 8]             256\n",
            "             ReLU-33           [128, 128, 8, 8]               0\n",
            "       BasicBlock-34           [128, 128, 8, 8]               0\n",
            "           Conv2d-35           [128, 256, 4, 4]         294,912\n",
            "      BatchNorm2d-36           [128, 256, 4, 4]             512\n",
            "             ReLU-37           [128, 256, 4, 4]               0\n",
            "           Conv2d-38           [128, 256, 4, 4]         589,824\n",
            "      BatchNorm2d-39           [128, 256, 4, 4]             512\n",
            "           Conv2d-40           [128, 256, 4, 4]          32,768\n",
            "      BatchNorm2d-41           [128, 256, 4, 4]             512\n",
            "             ReLU-42           [128, 256, 4, 4]               0\n",
            "       BasicBlock-43           [128, 256, 4, 4]               0\n",
            "           Conv2d-44           [128, 256, 4, 4]         589,824\n",
            "      BatchNorm2d-45           [128, 256, 4, 4]             512\n",
            "             ReLU-46           [128, 256, 4, 4]               0\n",
            "           Conv2d-47           [128, 256, 4, 4]         589,824\n",
            "      BatchNorm2d-48           [128, 256, 4, 4]             512\n",
            "             ReLU-49           [128, 256, 4, 4]               0\n",
            "       BasicBlock-50           [128, 256, 4, 4]               0\n",
            "           Conv2d-51           [128, 512, 2, 2]       1,179,648\n",
            "      BatchNorm2d-52           [128, 512, 2, 2]           1,024\n",
            "             ReLU-53           [128, 512, 2, 2]               0\n",
            "           Conv2d-54           [128, 512, 2, 2]       2,359,296\n",
            "      BatchNorm2d-55           [128, 512, 2, 2]           1,024\n",
            "           Conv2d-56           [128, 512, 2, 2]         131,072\n",
            "      BatchNorm2d-57           [128, 512, 2, 2]           1,024\n",
            "             ReLU-58           [128, 512, 2, 2]               0\n",
            "       BasicBlock-59           [128, 512, 2, 2]               0\n",
            "           Conv2d-60           [128, 512, 2, 2]       2,359,296\n",
            "      BatchNorm2d-61           [128, 512, 2, 2]           1,024\n",
            "             ReLU-62           [128, 512, 2, 2]               0\n",
            "           Conv2d-63           [128, 512, 2, 2]       2,359,296\n",
            "      BatchNorm2d-64           [128, 512, 2, 2]           1,024\n",
            "             ReLU-65           [128, 512, 2, 2]               0\n",
            "       BasicBlock-66           [128, 512, 2, 2]               0\n",
            "AdaptiveAvgPool2d-67           [128, 512, 1, 1]               0\n",
            "           Linear-68                  [128, 10]           5,130\n",
            "================================================================\n",
            "Total params: 11,181,642\n",
            "Trainable params: 11,181,642\n",
            "Non-trainable params: 0\n",
            "----------------------------------------------------------------\n",
            "Input size (MB): 6.00\n",
            "Forward/backward pass size (MB): 656.51\n",
            "Params size (MB): 42.65\n",
            "Estimated Total Size (MB): 705.16\n",
            "----------------------------------------------------------------\n"
          ],
          "name": "stdout"
        }
      ]
    },
    {
      "cell_type": "code",
      "metadata": {
        "colab": {
          "base_uri": "https://localhost:8080/"
        },
        "id": "d3NXXvYV4mQM",
        "outputId": "b710dada-5b8b-4ddc-ee41-e0d4504c576e"
      },
      "source": [
        "%%time\n",
        "model = train(\n",
        "    model,\n",
        "    criterion,\n",
        "    optimizer,\n",
        "    train_dl,\n",
        "    val_dl,\n",
        "    save_file_name=\"best.pth\",\n",
        "    max_epochs_stop=5,\n",
        "    n_epochs=30,\n",
        "    print_every=1)"
      ],
      "execution_count": null,
      "outputs": [
        {
          "output_type": "stream",
          "text": [
            "Model has been trained for: 12 epochs.\n",
            "\n",
            "\n",
            "Epoch: 0 \tTraining Loss: 1.7979 \t\t\tValidation Loss: 1.6410\n",
            "\t\tTraining Accuracy: 33.98%\t\t Validation Accuracy: 40.76%\n",
            "\n",
            "Epoch: 1 \tTraining Loss: 1.3566 \t\t\tValidation Loss: 1.2364\n",
            "\t\tTraining Accuracy: 50.78%\t\t Validation Accuracy: 55.88%\n",
            "\n",
            "Epoch: 2 \tTraining Loss: 1.0961 \t\t\tValidation Loss: 1.1242\n",
            "\t\tTraining Accuracy: 61.12%\t\t Validation Accuracy: 61.50%\n",
            "\n",
            "Epoch: 3 \tTraining Loss: 0.9145 \t\t\tValidation Loss: 0.9717\n",
            "\t\tTraining Accuracy: 67.66%\t\t Validation Accuracy: 67.72%\n",
            "\n",
            "Epoch: 4 \tTraining Loss: 0.8110 \t\t\tValidation Loss: 1.0076\n",
            "\t\tTraining Accuracy: 71.81%\t\t Validation Accuracy: 67.54%\n",
            "\n",
            "Epoch: 5 \tTraining Loss: 0.7385 \t\t\tValidation Loss: 0.8150\n",
            "\t\tTraining Accuracy: 74.57%\t\t Validation Accuracy: 71.76%\n",
            "\n",
            "Epoch: 6 \tTraining Loss: 0.6321 \t\t\tValidation Loss: 0.8525\n",
            "\t\tTraining Accuracy: 78.21%\t\t Validation Accuracy: 71.34%\n",
            "\n",
            "Epoch: 7 \tTraining Loss: 0.5780 \t\t\tValidation Loss: 0.7645\n",
            "\t\tTraining Accuracy: 80.21%\t\t Validation Accuracy: 74.24%\n",
            "\n",
            "Epoch: 8 \tTraining Loss: 0.5336 \t\t\tValidation Loss: 0.7105\n",
            "\t\tTraining Accuracy: 81.41%\t\t Validation Accuracy: 76.52%\n",
            "\n",
            "Epoch: 9 \tTraining Loss: 0.4895 \t\t\tValidation Loss: 0.6677\n",
            "\t\tTraining Accuracy: 83.23%\t\t Validation Accuracy: 77.60%\n",
            "\n",
            "Epoch: 10 \tTraining Loss: 0.4505 \t\t\tValidation Loss: 0.7863\n",
            "\t\tTraining Accuracy: 84.57%\t\t Validation Accuracy: 75.02%\n",
            "\n",
            "Epoch: 11 \tTraining Loss: 0.4086 \t\t\tValidation Loss: 0.6482\n",
            "\t\tTraining Accuracy: 86.06%\t\t Validation Accuracy: 79.48%\n",
            "\n",
            "Epoch: 12 \tTraining Loss: 0.3823 \t\t\tValidation Loss: 0.6249\n",
            "\t\tTraining Accuracy: 86.72%\t\t Validation Accuracy: 79.72%\n",
            "\n",
            "Epoch: 13 \tTraining Loss: 0.3352 \t\t\tValidation Loss: 0.6736\n",
            "\t\tTraining Accuracy: 88.46%\t\t Validation Accuracy: 79.14%\n",
            "\n",
            "Epoch: 14 \tTraining Loss: 0.3197 \t\t\tValidation Loss: 0.6659\n",
            "\t\tTraining Accuracy: 89.16%\t\t Validation Accuracy: 79.70%\n",
            "\n",
            "Epoch: 15 \tTraining Loss: 0.2984 \t\t\tValidation Loss: 0.6284\n",
            "\t\tTraining Accuracy: 89.87%\t\t Validation Accuracy: 81.32%\n",
            "\n",
            "Epoch: 16 \tTraining Loss: 0.2612 \t\t\tValidation Loss: 0.6956\n",
            "\t\tTraining Accuracy: 90.88%\t\t Validation Accuracy: 79.20%\n",
            "\n",
            "Epoch: 17 \tTraining Loss: 0.2793 \t\t\tValidation Loss: 0.6656\n",
            "\t\tTraining Accuracy: 90.45%\t\t Validation Accuracy: 80.46%\n",
            "\n",
            "Early Stopping! Total epochs: 17. Best epoch: 12 with loss: 0.62 and acc: 80.46%\n",
            "CPU times: user 12min 20s, sys: 2.89 s, total: 12min 23s\n",
            "Wall time: 12min 25s\n"
          ],
          "name": "stdout"
        }
      ]
    },
    {
      "cell_type": "markdown",
      "metadata": {
        "id": "RQwGbJS7uw-I"
      },
      "source": [
        "#TASK 2"
      ]
    },
    {
      "cell_type": "code",
      "metadata": {
        "id": "BZBajf_zobS0"
      },
      "source": [
        "import random\n",
        "import numpy as np\n",
        "from google.colab.patches import cv2_imshow\n",
        "import cv2\n",
        "import pandas as pd"
      ],
      "execution_count": null,
      "outputs": []
    },
    {
      "cell_type": "code",
      "metadata": {
        "id": "WyyrRJgsOE9Z",
        "colab": {
          "base_uri": "https://localhost:8080/",
          "height": 290
        },
        "outputId": "a07ae236-4f2d-49b7-fcdd-1ed6f6aaf0fd"
      },
      "source": [
        "# Load the datasets\n",
        "# reading CSV file\n",
        "! git clone https://github.com/nbala2k2/SummerSchool-CV-Implementation-2021\n",
        "%cd SummerSchool-CV-Implementation-2021/Dataset for IOU & NMS implementation/\n",
        "data_iou = pd.read_csv(\"iou_testcases.csv\")\n",
        "data_iou"
      ],
      "execution_count": null,
      "outputs": [
        {
          "output_type": "stream",
          "text": [
            "Cloning into 'SummerSchool-CV-Implementation-2021'...\n",
            "remote: Enumerating objects: 73, done.\u001b[K\n",
            "remote: Counting objects: 100% (73/73), done.\u001b[K\n",
            "remote: Compressing objects: 100% (69/69), done.\u001b[K\n",
            "remote: Total 73 (delta 24), reused 0 (delta 0), pack-reused 0\u001b[K\n",
            "Unpacking objects: 100% (73/73), done.\n",
            "/content/SummerSchool-CV-Implementation-2021/Dataset for IOU & NMS implementation\n"
          ],
          "name": "stdout"
        },
        {
          "output_type": "execute_result",
          "data": {
            "text/html": [
              "<div>\n",
              "<style scoped>\n",
              "    .dataframe tbody tr th:only-of-type {\n",
              "        vertical-align: middle;\n",
              "    }\n",
              "\n",
              "    .dataframe tbody tr th {\n",
              "        vertical-align: top;\n",
              "    }\n",
              "\n",
              "    .dataframe thead th {\n",
              "        text-align: right;\n",
              "    }\n",
              "</style>\n",
              "<table border=\"1\" class=\"dataframe\">\n",
              "  <thead>\n",
              "    <tr style=\"text-align: right;\">\n",
              "      <th></th>\n",
              "      <th>Test_case_number</th>\n",
              "      <th>Box_1</th>\n",
              "      <th>Box_2</th>\n",
              "    </tr>\n",
              "  </thead>\n",
              "  <tbody>\n",
              "    <tr>\n",
              "      <th>0</th>\n",
              "      <td>Test_case_1</td>\n",
              "      <td>[199, 422, 477, 474]</td>\n",
              "      <td>[31, 419, 204, 436]</td>\n",
              "    </tr>\n",
              "    <tr>\n",
              "      <th>1</th>\n",
              "      <td>Test_case_2</td>\n",
              "      <td>[345, 367, 449, 502]</td>\n",
              "      <td>[335, 333, 374, 452]</td>\n",
              "    </tr>\n",
              "    <tr>\n",
              "      <th>2</th>\n",
              "      <td>Test_case_3</td>\n",
              "      <td>[350, 147, 492, 20]</td>\n",
              "      <td>[462, 157, 478, 357]</td>\n",
              "    </tr>\n",
              "    <tr>\n",
              "      <th>3</th>\n",
              "      <td>Test_case_4</td>\n",
              "      <td>[215, 251, 446, 425]</td>\n",
              "      <td>[126, 463, 360, 510]</td>\n",
              "    </tr>\n",
              "  </tbody>\n",
              "</table>\n",
              "</div>"
            ],
            "text/plain": [
              "  Test_case_number                 Box_1                 Box_2\n",
              "0      Test_case_1  [199, 422, 477, 474]   [31, 419, 204, 436]\n",
              "1      Test_case_2  [345, 367, 449, 502]  [335, 333, 374, 452]\n",
              "2      Test_case_3   [350, 147, 492, 20]  [462, 157, 478, 357]\n",
              "3      Test_case_4  [215, 251, 446, 425]  [126, 463, 360, 510]"
            ]
          },
          "metadata": {
            "tags": []
          },
          "execution_count": 18
        }
      ]
    },
    {
      "cell_type": "code",
      "metadata": {
        "id": "KG6qWUBcAj2s",
        "colab": {
          "base_uri": "https://localhost:8080/",
          "height": 172
        },
        "outputId": "619654a7-a4c7-431a-a60c-3d3bccb089d9"
      },
      "source": [
        "# Load the datasets\n",
        "# reading CSV file\n",
        "data_nms = pd.read_csv(\"nms_testcases.csv\")\n",
        "data_nms"
      ],
      "execution_count": null,
      "outputs": [
        {
          "output_type": "execute_result",
          "data": {
            "text/html": [
              "<div>\n",
              "<style scoped>\n",
              "    .dataframe tbody tr th:only-of-type {\n",
              "        vertical-align: middle;\n",
              "    }\n",
              "\n",
              "    .dataframe tbody tr th {\n",
              "        vertical-align: top;\n",
              "    }\n",
              "\n",
              "    .dataframe thead th {\n",
              "        text-align: right;\n",
              "    }\n",
              "</style>\n",
              "<table border=\"1\" class=\"dataframe\">\n",
              "  <thead>\n",
              "    <tr style=\"text-align: right;\">\n",
              "      <th></th>\n",
              "      <th>Test_case_number</th>\n",
              "      <th>Box_1</th>\n",
              "      <th>Box_2</th>\n",
              "      <th>Box_3</th>\n",
              "      <th>Box_4</th>\n",
              "    </tr>\n",
              "  </thead>\n",
              "  <tbody>\n",
              "    <tr>\n",
              "      <th>0</th>\n",
              "      <td>Test_case_1</td>\n",
              "      <td>[200, 100, 300, 300, 0.95]</td>\n",
              "      <td>[220, 110, 320, 310, 0.85]</td>\n",
              "      <td>[180, 90, 280, 290, 0.85]</td>\n",
              "      <td>[210, 120, 310, 320, 0.65]</td>\n",
              "    </tr>\n",
              "    <tr>\n",
              "      <th>1</th>\n",
              "      <td>Test_case_2</td>\n",
              "      <td>[200, 100, 400, 200, 0.65]</td>\n",
              "      <td>[220, 110, 420, 210, 0.85]</td>\n",
              "      <td>[180, 90, 380, 190, 0.5]</td>\n",
              "      <td>[210, 120, 410, 220, 0.6]</td>\n",
              "    </tr>\n",
              "    <tr>\n",
              "      <th>2</th>\n",
              "      <td>Test_case_3</td>\n",
              "      <td>[100, 150, 330, 290, 0.68]</td>\n",
              "      <td>[90, 175, 320, 310, 0.9]</td>\n",
              "      <td>[350, 90, 450, 290, 0.85]</td>\n",
              "      <td>[340, 110, 440, 310, 0.75]</td>\n",
              "    </tr>\n",
              "    <tr>\n",
              "      <th>3</th>\n",
              "      <td>Test_case_4</td>\n",
              "      <td>[100, 100, 200, 300, 0.95]</td>\n",
              "      <td>[150, 110, 250, 310, 0.85]</td>\n",
              "      <td>[200, 90, 300, 290, 0.85]</td>\n",
              "      <td>[250, 120, 350, 320, 0.63]</td>\n",
              "    </tr>\n",
              "  </tbody>\n",
              "</table>\n",
              "</div>"
            ],
            "text/plain": [
              "  Test_case_number  ...                       Box_4\n",
              "0      Test_case_1  ...  [210, 120, 310, 320, 0.65]\n",
              "1      Test_case_2  ...   [210, 120, 410, 220, 0.6]\n",
              "2      Test_case_3  ...  [340, 110, 440, 310, 0.75]\n",
              "3      Test_case_4  ...  [250, 120, 350, 320, 0.63]\n",
              "\n",
              "[4 rows x 5 columns]"
            ]
          },
          "metadata": {
            "tags": []
          },
          "execution_count": 19
        }
      ]
    },
    {
      "cell_type": "code",
      "metadata": {
        "colab": {
          "base_uri": "https://localhost:8080/"
        },
        "id": "Q2BhOxcmqyhF",
        "outputId": "0609e06d-22ba-42b6-a54d-128bebe587ec"
      },
      "source": [
        "listOfdata = data_iou.to_numpy().tolist()\n",
        "listOfdata"
      ],
      "execution_count": null,
      "outputs": [
        {
          "output_type": "execute_result",
          "data": {
            "text/plain": [
              "[['Test_case_1', '[199, 422, 477, 474]', '[31, 419, 204, 436]'],\n",
              " ['Test_case_2', '[345, 367, 449, 502]', '[335, 333, 374, 452]'],\n",
              " ['Test_case_3', '[350, 147, 492, 20]', '[462, 157, 478, 357]'],\n",
              " ['Test_case_4', '[215, 251, 446, 425]', '[126, 463, 360, 510]']]"
            ]
          },
          "metadata": {
            "tags": []
          },
          "execution_count": 20
        }
      ]
    },
    {
      "cell_type": "code",
      "metadata": {
        "id": "b_bKlMttOEUa",
        "colab": {
          "base_uri": "https://localhost:8080/"
        },
        "outputId": "ef727ee5-c4e5-4133-daa9-9830fa45c07f"
      },
      "source": [
        "# Convert the pandas dataframe into lists\n",
        "import ast\n",
        "#Create list of bounding box coordinates for each of the test cases:\n",
        "iou_test_case_1 = [ast.literal_eval(listOfdata[0][1]), ast.literal_eval(listOfdata[0][2])]\n",
        "iou_test_case_2 = [ast.literal_eval(listOfdata[1][1]), ast.literal_eval(listOfdata[1][2])]\n",
        "iou_test_case_3 = [ast.literal_eval(listOfdata[2][1]), ast.literal_eval(listOfdata[2][2])]\n",
        "iou_test_case_4 = [ast.literal_eval(listOfdata[3][1]), ast.literal_eval(listOfdata[3][2])]\n",
        "iou_test_case_1"
      ],
      "execution_count": null,
      "outputs": [
        {
          "output_type": "execute_result",
          "data": {
            "text/plain": [
              "[[199, 422, 477, 474], [31, 419, 204, 436]]"
            ]
          },
          "metadata": {
            "tags": []
          },
          "execution_count": 21
        }
      ]
    },
    {
      "cell_type": "code",
      "metadata": {
        "id": "yk6289F-Be-o",
        "colab": {
          "base_uri": "https://localhost:8080/"
        },
        "outputId": "e5663358-32ae-43f5-e1e1-6fc1b4cd0da2"
      },
      "source": [
        "# Convert the pandas dataframe into lists\n",
        "listOfDFRows = data_nms.to_numpy().tolist()\n",
        "print(listOfDFRows)\n",
        "#Create list of bounding box coordinates for each of the test cases:\n",
        "nms_test_case_1 = [ast.literal_eval(listOfDFRows[0][1]), ast.literal_eval(listOfDFRows[0][2]), ast.literal_eval(listOfDFRows[0][3]), ast.literal_eval(listOfDFRows[0][4])]\n",
        "nms_test_case_2 = [ast.literal_eval(listOfDFRows[1][1]), ast.literal_eval(listOfDFRows[1][2]), ast.literal_eval(listOfDFRows[1][3]), ast.literal_eval(listOfDFRows[1][4])]\n",
        "nms_test_case_3 = [ast.literal_eval(listOfDFRows[2][1]), ast.literal_eval(listOfDFRows[2][2]), ast.literal_eval(listOfDFRows[2][3]), ast.literal_eval(listOfDFRows[2][4])]\n",
        "nms_test_case_4 = [ast.literal_eval(listOfDFRows[3][1]), ast.literal_eval(listOfDFRows[3][2]), ast.literal_eval(listOfDFRows[3][3]), ast.literal_eval(listOfDFRows[3][4])]\n",
        "nms_test_case_1"
      ],
      "execution_count": null,
      "outputs": [
        {
          "output_type": "stream",
          "text": [
            "[['Test_case_1', '[200, 100, 300, 300, 0.95]', '[220, 110, 320, 310, 0.85]', '[180, 90, 280, 290, 0.85]', '[210, 120, 310, 320, 0.65]'], ['Test_case_2', '[200, 100, 400, 200, 0.65]', '[220, 110, 420, 210, 0.85]', '[180, 90, 380, 190, 0.5]', '[210, 120, 410, 220, 0.6]'], ['Test_case_3', '[100, 150, 330, 290, 0.68]', '[90, 175, 320, 310, 0.9]', '[350, 90, 450, 290, 0.85]', '[340, 110, 440, 310, 0.75]'], ['Test_case_4', '[100, 100, 200, 300, 0.95]', '[150, 110, 250, 310, 0.85]', '[200, 90, 300, 290, 0.85]', '[250, 120, 350, 320, 0.63]']]\n"
          ],
          "name": "stdout"
        },
        {
          "output_type": "execute_result",
          "data": {
            "text/plain": [
              "[[200, 100, 300, 300, 0.95],\n",
              " [220, 110, 320, 310, 0.85],\n",
              " [180, 90, 280, 290, 0.85],\n",
              " [210, 120, 310, 320, 0.65]]"
            ]
          },
          "metadata": {
            "tags": []
          },
          "execution_count": 22
        }
      ]
    },
    {
      "cell_type": "code",
      "metadata": {
        "id": "JO7w7X1zPQ-t",
        "colab": {
          "base_uri": "https://localhost:8080/",
          "height": 529
        },
        "outputId": "26e612a1-b3fc-47ee-bf4a-4bea2bee1e33"
      },
      "source": [
        "\n",
        "# Visualize the boxes for one of the test cases\n",
        "img = np.zeros([512,512,3] ,dtype = np.uint8)\n",
        "box1, box2= iou_test_case_1[0], iou_test_case_1[1]\n",
        "img2 = cv2.rectangle(img, (box1[0], box1[1]), (box1[2], box1[3]) , color = (0,255,0))#green\n",
        "img2 = cv2.rectangle(img, (box2[0], box2[1]), (box2[2], box2[3]) , color = (0,0,255))#red\n",
        "\n",
        "cv2_imshow(img2)"
      ],
      "execution_count": null,
      "outputs": [
        {
          "output_type": "display_data",
          "data": {
            "image/png": "[encoded data removed]",
            "text/plain": [
              "<PIL.Image.Image image mode=RGB size=512x512 at 0x7FCCF12AD150>"
            ]
          },
          "metadata": {
            "tags": []
          }
        }
      ]
    },
    {
      "cell_type": "code",
      "metadata": {
        "id": "_hnlwOwAFuDQ",
        "colab": {
          "base_uri": "https://localhost:8080/",
          "height": 529
        },
        "outputId": "7f77ee82-5dd8-4306-cd1d-88f894e514bc"
      },
      "source": [
        "# Visualize the boxes for one of the test cases\n",
        "img = np.zeros([512,512,3] ,dtype = np.uint8)\n",
        "box1, box2, box3, box4 = nms_test_case_1[0], nms_test_case_1[1], nms_test_case_1[2], nms_test_case_1[3]\n",
        "img2 = cv2.rectangle(img, (box1[0], box1[1]), (box1[2], box1[3]) , color = (0,255,0))\n",
        "img2 = cv2.rectangle(img, (box2[0], box2[1]), (box2[2], box2[3]) , color = (0,0,255))\n",
        "img2 = cv2.rectangle(img, (box3[0], box3[1]), (box3[2], box3[3]) , color = (255,0,0))\n",
        "img2 = cv2.rectangle(img, (box4[0], box4[1]), (box4[2], box4[3]) , color = (255,255,255)) \n",
        "cv2_imshow(img2)"
      ],
      "execution_count": null,
      "outputs": [
        {
          "output_type": "display_data",
          "data": {
            "image/png": "[encoded data removed]",
            "text/plain": [
              "<PIL.Image.Image image mode=RGB size=512x512 at 0x7FCCF0A08A50>"
            ]
          },
          "metadata": {
            "tags": []
          }
        }
      ]
    },
    {
      "cell_type": "code",
      "metadata": {
        "id": "p-nExADWZfck"
      },
      "source": [
        "'''\n",
        "Exercise: Implement iou(). Some hints:\n",
        "    In this exercise only, we define a box using its two corners (upper left and\n",
        "     lower right): (x1, y1, x2, y2) rather than the midpoint and height/width.\n",
        "    To calculate the area of a rectangle you need to multiply its height \n",
        "    (y2 - y1) by its width (x2 - x1)\n",
        "    You'll also need to find the coordinates (xi1, yi1, xi2, yi2) of the \n",
        "    intersection of two boxes. \n",
        "'''\n",
        "def iou(box1, box2):\n",
        "    \"\"\"Implement the intersection over union (IoU) between box1 and box2\n",
        "    Arguments:\n",
        "    box1 -- first box, list object with coordinates (x1, y1, x2, y2)\n",
        "    box2 -- second box, list object with coordinates (x1, y1, x2, y2)\n",
        "    \"\"\"\n",
        "    ## MY VARIABLES\n",
        "    ## aoi-Area of intersection\n",
        "    ## aou-Area of union\n",
        "    \n",
        "\n",
        "################################################################################\n",
        "# TODO: Replace \"None\" with the correct code/ logic to find IoU for the boxes. #\n",
        "# Remember to account for the case in which IoU is 0.                          #\n",
        "################################################################################\n",
        "# *****START OF YOUR CODE (DO NOT DELETE/MODIFY THIS LINE)*****\n",
        "    # Calculate the (y1, x1, y2, x2) coordinates of the intersection of box1   #\n",
        "    # and box2. Calculate its Area.\n",
        "    x1=box1[0]\n",
        "    y1=box1[1]\n",
        "    x2=box1[2]\n",
        "    y2=box1[3]\n",
        "\n",
        "    x3=box2[0]\n",
        "    y3=box2[1]\n",
        "    x4=box2[2]\n",
        "    y4=box2[3]\n",
        "    \n",
        "    aoi=0\n",
        "    if (x3>=x1 and x3<=x2 and y3>=y1 and y3<=y2) or (x3<=x1 and x3>=x2 and y3<=y1 and y3>=y2) or (x4>=x1 and x4<=x2 and y4>=y1 and y4<=y2) or (x4<=x1 and x4>=x2 and y4<=y1 and y4>=y2):\n",
        "\n",
        "          if (x3>=x1 and x3<=x2) or (x3<=x1 and x3>=x2):\n",
        "            # implies x3 is inside box \n",
        "            if (x4>=x3):\n",
        "              # x3 is lower left corner and inside pt\n",
        "                if (x2>=x1):\n",
        "                  #x2 is top right\n",
        "                  aoi=(x2-x3)*(y2-y3)\n",
        "                else:\n",
        "                  aoi=(x1-x3)*(y1-y3)\n",
        "            else:\n",
        "              #x3 is top left and inside pt\n",
        "                if (x2>x1):\n",
        "                  #x2 is top right\n",
        "                  aoi=(x3-x1)*(y3-y1)\n",
        "                else:\n",
        "                  aoi=(x3-x2)*(y3-y2)\n",
        "          else:\n",
        "            #x4 is inside pt\n",
        "            if (x4<=x3):\n",
        "              # x4 is lower left corner and inside pt\n",
        "                if (x2>=x1):\n",
        "                  #x2 is top right\n",
        "                  aoi=(x2-x4)*(y2-y4)\n",
        "                else:\n",
        "                  aoi=(x1-x4)*(y1-y4)\n",
        "            else:\n",
        "              #x4 is top left and inside pt\n",
        "                if (x2>=x1):\n",
        "                  #x2 is top right\n",
        "                  aoi=(x4-x1)*(y4-y1)\n",
        "                else:\n",
        "                  aoi=(x4-x2)*(y4-y2)\n",
        "            \n",
        "            \n",
        "    elif (x1>x3 and x1<x4 and y1>y3 and y1<y4) or (x1<x3 and x1>x4 and y1<y3 and y1>y4) or (x2>x3 and x2<x4 and y2>y3 and y2<y4) or (x2<x3 and x2>x4 and y2<y3 and y2>y4):\n",
        "\n",
        "        if (x1>x3 and x1<x4) or (x1<x3 and x1>x4):\n",
        "            # implies x1 is inside box \n",
        "            if (x2>x1):\n",
        "              # x1 is lower left corner and inside pt\n",
        "                if (x4>x3):\n",
        "                  #x4 is top right\n",
        "                  aoi=(x4-x1)*(y4-y1)\n",
        "                else:\n",
        "                  aoi=(x3-x1)*(y3-y1)\n",
        "            else:\n",
        "              #x1 is top left and inside pt\n",
        "                if (x4>x3):\n",
        "                  #x4 is top right\n",
        "                  aoi=(x3-x1)*(y3-y1)\n",
        "                else:\n",
        "                  aoi=(x4-x1)*(y4-y1)\n",
        "        else:\n",
        "            #x2 is inside pt\n",
        "            if (x2<x1):\n",
        "              # x2 is lower left corner and inside pt\n",
        "                if (x4>x3):\n",
        "                  #x4 is top right\n",
        "                  aoi=(x2-x4)*(y2-y4)\n",
        "                else:\n",
        "                  aoi=(x4-x3)*(y4-y3)\n",
        "            else:\n",
        "              #x2 is bottom left and inside pt\n",
        "                if (x4>x3):\n",
        "                  #x4 is top right\n",
        "                  aoi=(x4-x2)*(y4-y2)\n",
        "                else:\n",
        "                  aoi=(x3-x2)*(y3-y2)\n",
        "    \n",
        "    aoi=abs(aoi)\n",
        "    ### if aoi=0 then they dont intersect\n",
        "    sum_of_areas=abs((x1-x2)*(y1-y2))+abs((x3-x4)*(y3-y4))\n",
        "    aou=abs(sum_of_areas-aoi)\n",
        "                                            #\n",
        "    xi1 = None\n",
        "    yi1 = None\n",
        "    xi2 = None\n",
        "    yi2 = None\n",
        "    # Case in which they don't intersec --> max(,0)\n",
        "    inter_area = aoi\n",
        "\n",
        "    # Calculate the Union area by using Formula: Union(A,B) = A + B - Inter(A,B)\n",
        "    box1_area =abs((x1-x2)*(y1-y2))\n",
        "    box2_area =abs((x3-x4)*(y3-y4))\n",
        "    union_area = aou\n",
        "\n",
        "    \n",
        "    # compute the IoU\n",
        "    iou = inter_area/union_area\n",
        "################################################################################\n",
        "#                              END OF YOUR CODE                                #\n",
        "################################################################################\n",
        "    return iou"
      ],
      "execution_count": null,
      "outputs": []
    },
    {
      "cell_type": "code",
      "metadata": {
        "id": "ZGwmWxFnPgaT"
      },
      "source": [
        "###############################################################################\n",
        "# TODO: Replace \"None\" with the correct code/ logic to find IoU for the boxes. #\n",
        "# Perform iou on the test cases                                                #\n",
        "################################################################################\n",
        "box1, box2= iou_test_case_1[0], iou_test_case_1[1]\n",
        "iou_result_1 = iou(box1,box2)\n",
        "box1, box2= iou_test_case_2[0], iou_test_case_2[1]\n",
        "iou_result_2 = iou(box1,box2)\n",
        "box1, box2= iou_test_case_3[0], iou_test_case_3[1]\n",
        "iou_result_3 = iou(box1,box2)\n",
        "box1, box2= iou_test_case_4[0], iou_test_case_4[1]\n",
        "iou_result_4 = iou(box1,box2)\n",
        "################################################################################\n",
        "#                              END OF YOUR CODE                                #\n",
        "################################################################################"
      ],
      "execution_count": null,
      "outputs": []
    },
    {
      "cell_type": "code",
      "metadata": {
        "id": "mcOsKGRmP2GN",
        "colab": {
          "base_uri": "https://localhost:8080/"
        },
        "outputId": "7087f75a-7e56-4915-b0c0-29aa6b60a28a"
      },
      "source": [
        "# Print out the test cases:\n",
        "print(\"IoU for 1st test case is: {0:.5f} \".format(iou_result_1), \n",
        "      \"\\nIoU for 2nd test case is: {0:.5f} \".format(iou_result_2), \n",
        "      \"\\nIoU for 3rd test case is:\", iou_result_3, \n",
        "      \"\\nIoU for 4th test case is:\", iou_result_4)"
      ],
      "execution_count": null,
      "outputs": [
        {
          "output_type": "stream",
          "text": [
            "IoU for 1st test case is: 0.00404  \n",
            "IoU for 2nd test case is: 0.15201  \n",
            "IoU for 3rd test case is: 0.0 \n",
            "IoU for 4th test case is: 0.0\n"
          ],
          "name": "stdout"
        }
      ]
    },
    {
      "cell_type": "code",
      "metadata": {
        "id": "r45hrkRJekb_"
      },
      "source": [
        "'''\n",
        "Exercise: Implement nms(). Some hints:\n",
        "    In this functoin, we will be performing non max suppression to select \n",
        "    bounding boxes for an object.\n",
        "    We will be assuming there is only one class of objects. However, the code is\n",
        "    is not very different for multiple classes of objects. \n",
        "    \n",
        "    c_score represents the confidence score of particular bounding box.\n",
        "\n",
        "    Use the iou function defined earlier.\n",
        "\n",
        "    Remember the algorithm to perform nms:\n",
        "    Discard all bounding boxes with confidence score < c_score_threshold\n",
        "    While there are any remaining boxes:\n",
        "      Pick box with largest confidence, output that as prediction.\n",
        "      Discard any remaining boxes with IoU > iou_threshold with the output box. \n",
        "\n",
        "    0.6 is an arbitrary number- feel free to experiment with it.\n",
        "\n",
        "    Make use of list comprehenion\n",
        "'''\n",
        "def nms(bboxes,iou_threshold,c_score_threshold):\n",
        "  '''\n",
        "    Implement non max supression given a list of bounding boxes.\n",
        "    Arguments:\n",
        "    bboxes: list of lists- the inner lists contain 5 elements and are of the\n",
        "            following format: [x1, y1, x2, y2, c_score]\n",
        "    iou_threshold: The threshold above which bounding boxes with lower confidence\n",
        "                    score are removed.\n",
        "    c_score_threshold: The minimum value of c_score below which bounding boxes\n",
        "                       are removed.\n",
        "    ''' \n",
        "################################################################################\n",
        "# TODO: Replace \"None\" with the correct code/ logic to find IoU for the boxes. #\n",
        "# Remember to account for the case in which IoU is 0.                          #\n",
        "################################################################################\n",
        "# *****START OF YOUR CODE (DO NOT DELETE/MODIFY THIS LINE)*****\n",
        "\n",
        "  #Using list comprehension (or otherwise), select bounding boxes which have\n",
        "  # confidence score greater than c_score_threshold.\n",
        "  \n",
        "  i=0\n",
        "  while(i<len(bboxes)):\n",
        "    if bboxes[i][4]<c_score_threshold:\n",
        "      bboxes.remove(bboxes[i])\n",
        "      i-=1\n",
        "    i+=1\n",
        "  \n",
        "\n",
        "  #Sort the bounding boxes in decresing order of confidence score.\n",
        "  bboxes_sorted = sorted(bboxes,key=lambda x: x[4],reverse=True)\n",
        "  bboxes=bboxes_sorted\n",
        " \n",
        "  #An empty list to store selected bounding boxes.\n",
        "  boxes_after_nms = []\n",
        "\n",
        "  #Loop through the bounding boxes\n",
        "  while bboxes:\n",
        "      #Select box with highest confidence score\n",
        "      chosen_box = bboxes[0]\n",
        "      #Using list comprehension (or otherwise), eliminate bounding boxes whose\n",
        "      #iou with \"chosen_box\" is greater than threshold.\n",
        "      bboxes = [b for b in bboxes if iou([b[0],b[1],b[2],b[3]],[chosen_box[0],chosen_box[1],chosen_box[2],chosen_box[3]])<iou_threshold]\n",
        "      #Add the bbox with highest confidence score to the formerly created list.\n",
        "      boxes_after_nms.append(chosen_box)\n",
        "################################################################################\n",
        "#                              END OF YOUR CODE                                #\n",
        "################################################################################\n",
        "  return boxes_after_nms"
      ],
      "execution_count": null,
      "outputs": []
    },
    {
      "cell_type": "code",
      "metadata": {
        "id": "fyFjVHu9RMHW"
      },
      "source": [
        "################################################################################\n",
        "# TODO: Replace \"None\" with the correct code/ logic to find nms for the boxes. #\n",
        "# Perform nms on the test cases \n",
        "# Experiment with values for iou threshold and c_score threshold               #\n",
        "################################################################################\n",
        "nms_result_1 = nms(nms_test_case_1,0.5,0.6)\n",
        "nms_result_2 = nms(nms_test_case_2,0.5,0.6)\n",
        "nms_result_3 = nms(nms_test_case_3,0.5,0.6)\n",
        "nms_result_4 = nms(nms_test_case_4,0.5,0.6)\n",
        "################################################################################\n",
        "#                              END OF YOUR CODE                                #\n",
        "################################################################################"
      ],
      "execution_count": null,
      "outputs": []
    },
    {
      "cell_type": "code",
      "metadata": {
        "id": "FTet-ea9Jyh-",
        "colab": {
          "base_uri": "https://localhost:8080/"
        },
        "outputId": "97dc1ca8-a776-4cf5-e4a7-1e4ce9ea8d9c"
      },
      "source": [
        "# Check the number of bounding boxes returned for eaach test case.\n",
        "print(\"Number of bounding boxes returned for 1st test case is: \", len(nms_result_1), \n",
        "      \"\\nNumber of bounding boxes returned for 2nd test case is: \", len(nms_result_2),\n",
        "      \"\\nNumber of bounding boxes returned for 3rd test case is: \", len(nms_result_3),\n",
        "      \"\\nNumber of bounding boxes returned for 4th test case is: \", len(nms_result_4))"
      ],
      "execution_count": null,
      "outputs": [
        {
          "output_type": "stream",
          "text": [
            "Number of bounding boxes returned for 1st test case is:  1 \n",
            "Number of bounding boxes returned for 2nd test case is:  2 \n",
            "Number of bounding boxes returned for 3rd test case is:  4 \n",
            "Number of bounding boxes returned for 4th test case is:  4\n"
          ],
          "name": "stdout"
        }
      ]
    },
    {
      "cell_type": "code",
      "metadata": {
        "id": "IQSVNBkqGs9f",
        "colab": {
          "base_uri": "https://localhost:8080/",
          "height": 529
        },
        "outputId": "63818504-6b73-4789-9cf1-823f25d16397"
      },
      "source": [
        "# Depending on the number of bounding boxes, visualize the results. \n",
        "img = np.zeros([512,512,3] ,dtype = np.uint8)\n",
        "import cv2\n",
        "box1, box2, = nms_result_2[0], nms_result_2[1]\n",
        "img2 = cv2.rectangle(img, (box1[0], box1[1]), (box1[2], box1[3]) , color = (0,255,0))\n",
        "img2 = cv2.rectangle(img, (box2[0], box2[1]), (box2[2], box2[3]) , color = (0,0,255))\n",
        "cv2_imshow(img2)"
      ],
      "execution_count": null,
      "outputs": [
        {
          "output_type": "display_data",
          "data": {
            "image/png": "[encoded data removed]",
            "text/plain": [
              "<PIL.Image.Image image mode=RGB size=512x512 at 0x7FCCF0AA16D0>"
            ]
          },
          "metadata": {
            "tags": []
          }
        }
      ]
    }
  ]
}